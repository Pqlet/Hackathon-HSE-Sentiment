{
 "cells": [
  {
   "cell_type": "markdown",
   "id": "f68632ae",
   "metadata": {
    "cellId": "f9ws096nhzcfq98ydrcsbp",
    "execution_id": "cc2f0248-d431-4bc7-b3b0-0a28dd0abec2"
   },
   "source": [
    "## Imports"
   ]
  },
  {
   "cell_type": "code",
   "execution_count": 237,
   "id": "f559e6c0",
   "metadata": {
    "cellId": "inop4i0d494tx3vuhmveo"
   },
   "outputs": [
    {
     "name": "stdout",
     "output_type": "stream",
     "text": [
      "Defaulting to user installation because normal site-packages is not writeable\n",
      "Requirement already satisfied: numpy in /usr/local/lib/python3.8/dist-packages (1.19.2)\n",
      "Requirement already satisfied: pandas in /usr/local/lib/python3.8/dist-packages (0.25.3)\n",
      "Requirement already satisfied: mayplotlib in /home/jupyter/.local/lib/python3.8/site-packages (0.0.1)\n",
      "Requirement already satisfied: seaborn in /home/jupyter/.local/lib/python3.8/site-packages (0.12.2)\n",
      "Requirement already satisfied: wordcloud in /home/jupyter/.local/lib/python3.8/site-packages (1.8.2.2)\n",
      "Requirement already satisfied: matplotlib in /usr/local/lib/python3.8/dist-packages (3.1.3)\n",
      "Requirement already satisfied: nltk in /usr/local/lib/python3.8/dist-packages (3.4.5)\n",
      "Requirement already satisfied: plotly in /usr/local/lib/python3.8/dist-packages (4.9.0)\n",
      "Requirement already satisfied: pytz>=2017.2 in /usr/local/lib/python3.8/dist-packages (from pandas) (2021.3)\n",
      "Requirement already satisfied: python-dateutil>=2.6.1 in /kernel/lib/python3.8/site-packages (from pandas) (2.8.2)\n",
      "Requirement already satisfied: pillow in /kernel/lib/python3.8/site-packages (from wordcloud) (9.4.0)\n",
      "Requirement already satisfied: pyparsing!=2.0.4,!=2.1.2,!=2.1.6,>=2.0.1 in /kernel/lib/python3.8/site-packages (from matplotlib) (2.4.7)\n",
      "Requirement already satisfied: kiwisolver>=1.0.1 in /kernel/lib/python3.8/site-packages (from matplotlib) (1.4.4)\n",
      "Requirement already satisfied: cycler>=0.10 in /kernel/lib/python3.8/site-packages (from matplotlib) (0.11.0)\n",
      "Requirement already satisfied: six in /kernel/lib/python3.8/site-packages (from nltk) (1.16.0)\n",
      "Requirement already satisfied: retrying>=1.3.3 in /usr/local/lib/python3.8/dist-packages (from plotly) (1.3.3)\n",
      "\u001b[33mWARNING: You are using pip version 21.3.1; however, version 23.0.1 is available.\n",
      "You should consider upgrading via the '/usr/local/bin/python3 -m pip install --upgrade pip' command.\u001b[0m\n",
      "/home/jupyter/mnt/s3/databucket\n"
     ]
    }
   ],
   "source": [
    "# import libraries\n",
    "%pip install numpy pandas mayplotlib seaborn wordcloud matplotlib nltk plotly\n",
    "import numpy as np\n",
    "import pandas as pd\n",
    "import matplotlib.pylab as plt\n",
    "import seaborn as sns\n",
    "from wordcloud import WordCloud\n",
    "import matplotlib.pyplot as plt\n",
    "import nltk\n",
    "import re\n",
    "import plotly.express as px\n",
    "\n",
    "%cd /home/jupyter/mnt/s3/databucket"
   ]
  },
  {
   "cell_type": "markdown",
   "id": "add704ba",
   "metadata": {
    "cellId": "oh97jluazgcalyal703iz",
    "execution_id": "b46c97a8-9aa7-4dc0-aa1c-21c83616b8bc"
   },
   "source": [
    "## Initial Analysis Train.csv"
   ]
  },
  {
   "cell_type": "code",
   "execution_count": 238,
   "id": "e89b605c",
   "metadata": {
    "cellId": "yw4uch3o9nn6irby5eixg"
   },
   "outputs": [
    {
     "data": {
      "text/html": [
       "<div>\n",
       "<style scoped>\n",
       "    .dataframe tbody tr th:only-of-type {\n",
       "        vertical-align: middle;\n",
       "    }\n",
       "\n",
       "    .dataframe tbody tr th {\n",
       "        vertical-align: top;\n",
       "    }\n",
       "\n",
       "    .dataframe thead th {\n",
       "        text-align: right;\n",
       "    }\n",
       "</style>\n",
       "<table border=\"1\" class=\"dataframe\">\n",
       "  <thead>\n",
       "    <tr style=\"text-align: right;\">\n",
       "      <th></th>\n",
       "      <th>sentence</th>\n",
       "      <th>1category</th>\n",
       "      <th>2category</th>\n",
       "      <th>sentiment</th>\n",
       "    </tr>\n",
       "  </thead>\n",
       "  <tbody>\n",
       "    <tr>\n",
       "      <th>0</th>\n",
       "      <td>При этом всегда получал качественные услуги.</td>\n",
       "      <td>Communication</td>\n",
       "      <td>NaN</td>\n",
       "      <td>+</td>\n",
       "    </tr>\n",
       "    <tr>\n",
       "      <th>1</th>\n",
       "      <td>Не вижу, за что хотя бы 2 поставить, сервис на 1!</td>\n",
       "      <td>?</td>\n",
       "      <td>NaN</td>\n",
       "      <td>−</td>\n",
       "    </tr>\n",
       "    <tr>\n",
       "      <th>2</th>\n",
       "      <td>Вот так \"Мой любимый\" банк МКБ меня обманул.</td>\n",
       "      <td>?</td>\n",
       "      <td>NaN</td>\n",
       "      <td>−</td>\n",
       "    </tr>\n",
       "    <tr>\n",
       "      <th>3</th>\n",
       "      <td>Отвратительное отношение к клиентам.</td>\n",
       "      <td>Communication</td>\n",
       "      <td>NaN</td>\n",
       "      <td>−</td>\n",
       "    </tr>\n",
       "    <tr>\n",
       "      <th>4</th>\n",
       "      <td>Всегда в любое время дня и ночи помогут, ответ...</td>\n",
       "      <td>Communication</td>\n",
       "      <td>NaN</td>\n",
       "      <td>+</td>\n",
       "    </tr>\n",
       "  </tbody>\n",
       "</table>\n",
       "</div>"
      ],
      "text/plain": [
       "                                            sentence  ... sentiment\n",
       "0       При этом всегда получал качественные услуги.  ...         +\n",
       "1  Не вижу, за что хотя бы 2 поставить, сервис на 1!  ...         −\n",
       "2       Вот так \"Мой любимый\" банк МКБ меня обманул.  ...         −\n",
       "3               Отвратительное отношение к клиентам.  ...         −\n",
       "4  Всегда в любое время дня и ночи помогут, ответ...  ...         +\n",
       "\n",
       "[5 rows x 4 columns]"
      ]
     },
     "execution_count": 238,
     "metadata": {},
     "output_type": "execute_result"
    }
   ],
   "source": [
    "df = pd.read_csv('train.csv')\n",
    "df.drop(columns=['Unnamed: 0'], inplace=True)  # redundant index column\n",
    "df.head()"
   ]
  },
  {
   "cell_type": "code",
   "execution_count": 239,
   "id": "2c674ce6",
   "metadata": {
    "cellId": "3pq879t1ckhbrboavqvac4"
   },
   "outputs": [
    {
     "data": {
      "text/plain": [
       "(19361, 4)"
      ]
     },
     "execution_count": 239,
     "metadata": {},
     "output_type": "execute_result"
    }
   ],
   "source": [
    "df.shape"
   ]
  },
  {
   "cell_type": "code",
   "execution_count": 240,
   "id": "fdf6b358",
   "metadata": {
    "cellId": "xusiys4r8dola7lxt9i1o"
   },
   "outputs": [
    {
     "name": "stdout",
     "output_type": "stream",
     "text": [
      "<class 'pandas.core.frame.DataFrame'>\n",
      "RangeIndex: 19361 entries, 0 to 19360\n",
      "Data columns (total 4 columns):\n",
      "sentence     19361 non-null object\n",
      "1category    19361 non-null object\n",
      "2category    999 non-null object\n",
      "sentiment    19361 non-null object\n",
      "dtypes: object(4)\n",
      "memory usage: 605.2+ KB\n"
     ]
    }
   ],
   "source": [
    "# Check each data type of columns and missing values\n",
    "df.info()"
   ]
  },
  {
   "cell_type": "markdown",
   "id": "199f55fd",
   "metadata": {
    "cellId": "7ge4jsvduog1ery0vu6x12",
    "execution_id": "b79adad6-d949-471b-9378-730dffd0d820"
   },
   "source": [
    "## Duplicate Analysis"
   ]
  },
  {
   "cell_type": "code",
   "execution_count": 241,
   "id": "8ad8d3a3",
   "metadata": {
    "cellId": "ota9tpvdqehg1aekch33yj"
   },
   "outputs": [
    {
     "name": "stdout",
     "output_type": "stream",
     "text": [
      "Column sentence: ['При этом всегда получал качественные услуги.'\n",
      " 'Не вижу, за что хотя бы 2 поставить, сервис на 1!'\n",
      " 'Вот так \"Мой любимый\" банк МКБ меня обманул.' ...\n",
      " 'И иду на встречу, готов еще заплатить % за месяц, сумму сам не высчитывал, мне перезвонили, проверили, что это действительно я, сообщили сумму к оплате досрочного погашения, сказали оплатить до 12-го, я все внес уже 9-го.'\n",
      " 'У меня положительное отношение к этому банку.'\n",
      " 'В общей сложности через 30 мин.мы ушли из банка с приятными впечатлениями.']\n",
      "Column 1category: ['Communication' '?' 'Quality' 'Price' 'Safety']\n",
      "Column 2category: [nan 'Quality' 'Communication' 'Price' 'Safety']\n",
      "Column sentiment: ['+' '−' '?']\n"
     ]
    }
   ],
   "source": [
    "#unique values for each column\n",
    "for column in df.columns:\n",
    "    print(f'Column {column}: {df[column].unique()}')"
   ]
  },
  {
   "cell_type": "code",
   "execution_count": 242,
   "id": "bce29bc1",
   "metadata": {
    "cellId": "az476lar40wewe1so1oh6"
   },
   "outputs": [
    {
     "data": {
      "text/html": [
       "<div>\n",
       "<style scoped>\n",
       "    .dataframe tbody tr th:only-of-type {\n",
       "        vertical-align: middle;\n",
       "    }\n",
       "\n",
       "    .dataframe tbody tr th {\n",
       "        vertical-align: top;\n",
       "    }\n",
       "\n",
       "    .dataframe thead th {\n",
       "        text-align: right;\n",
       "    }\n",
       "</style>\n",
       "<table border=\"1\" class=\"dataframe\">\n",
       "  <thead>\n",
       "    <tr style=\"text-align: right;\">\n",
       "      <th></th>\n",
       "      <th>sentence</th>\n",
       "      <th>1category</th>\n",
       "      <th>2category</th>\n",
       "      <th>sentiment</th>\n",
       "    </tr>\n",
       "  </thead>\n",
       "  <tbody>\n",
       "    <tr>\n",
       "      <th>count</th>\n",
       "      <td>19361</td>\n",
       "      <td>19361</td>\n",
       "      <td>999</td>\n",
       "      <td>19361</td>\n",
       "    </tr>\n",
       "    <tr>\n",
       "      <th>unique</th>\n",
       "      <td>7166</td>\n",
       "      <td>5</td>\n",
       "      <td>4</td>\n",
       "      <td>3</td>\n",
       "    </tr>\n",
       "    <tr>\n",
       "      <th>top</th>\n",
       "      <td>Вот это клиентоориентированность!</td>\n",
       "      <td>Communication</td>\n",
       "      <td>Communication</td>\n",
       "      <td>−</td>\n",
       "    </tr>\n",
       "    <tr>\n",
       "      <th>freq</th>\n",
       "      <td>6</td>\n",
       "      <td>7193</td>\n",
       "      <td>474</td>\n",
       "      <td>10192</td>\n",
       "    </tr>\n",
       "  </tbody>\n",
       "</table>\n",
       "</div>"
      ],
      "text/plain": [
       "                                 sentence  ... sentiment\n",
       "count                               19361  ...     19361\n",
       "unique                               7166  ...         3\n",
       "top     Вот это клиентоориентированность!  ...         −\n",
       "freq                                    6  ...     10192\n",
       "\n",
       "[4 rows x 4 columns]"
      ]
     },
     "execution_count": 242,
     "metadata": {},
     "output_type": "execute_result"
    }
   ],
   "source": [
    "df.describe()  # very small value for unique values of sentence, 2category is almost empty thus strong disbalance of classes"
   ]
  },
  {
   "cell_type": "markdown",
   "id": "7074bc1b",
   "metadata": {
    "cellId": "7by4if3ytk8mye1kxkhr8r",
    "execution_id": "3554b0b7-c2be-4dfd-baba-ff275d6b4aee"
   },
   "source": [
    "df.sort_values(by=['sentence']).tail(20)"
   ]
  },
  {
   "cell_type": "code",
   "execution_count": 243,
   "id": "6c292ee9",
   "metadata": {
    "cellId": "kwg8pnv4kbk2xloj55mbjv"
   },
   "outputs": [
    {
     "data": {
      "text/plain": [
       "(12897, 4)"
      ]
     },
     "execution_count": 243,
     "metadata": {},
     "output_type": "execute_result"
    }
   ],
   "source": [
    "# check whether non-unique values have the same other values\n",
    "df.drop_duplicates(keep='last', inplace=True)\n",
    "df.shape # off by 5 thousands"
   ]
  },
  {
   "cell_type": "markdown",
   "id": "36360c3f",
   "metadata": {
    "cellId": "hy8e40x3o7wosf62x5zakj",
    "execution_id": "cae0d396-d0b4-485e-888d-702e7775c4b3"
   },
   "source": [
    "## Visualisation"
   ]
  },
  {
   "cell_type": "code",
   "execution_count": 246,
   "id": "126e96c1",
   "metadata": {
    "cellId": "wzkwumb8ii456gyzpzsc6"
   },
   "outputs": [
    {
     "data": {
      "image/png": "[encoded data removed]",
      "text/plain": [
       "<Figure size 432x288 with 1 Axes>"
      ]
     },
     "metadata": {},
     "output_type": "display_data"
    }
   ],
   "source": [
    "# check balance of classes\n",
    "\n",
    "df.groupby('sentiment').count()['sentence'].plot(kind='pie', labels=['Positive (34%)', 'Neutral (15%)', 'Negative (51%)'], colors = ['#1C4EAA', '#8B8B8C', '#E89611' ])\n",
    "plt.savefig('pie.png')\n",
    "plt.show()"
   ]
  },
  {
   "cell_type": "code",
   "execution_count": null,
   "id": "3acf7354",
   "metadata": {
    "cellId": "sl37o5gqxspk02a6iuxa7",
    "execution_id": "920a44e3-9349-4b7c-a3f2-bf1b7d2e100f"
   },
   "outputs": [
    {
     "name": "stderr",
     "output_type": "stream",
     "text": [
      "[nltk_data] Downloading package stopwords to\n",
      "[nltk_data]     /home/jupyter/nltk_data...\n",
      "[nltk_data]   Package stopwords is already up-to-date!\n"
     ]
    }
   ],
   "source": [
    "# Construct Cloud of Words\n",
    "nltk.download('stopwords')\n",
    "from nltk.corpus import stopwords\n",
    "\n",
    "# let's visualise the world cloud\n",
    "# iterate through the csv file\n",
    "comment_words = ''\n",
    "stopwords = stopwords.words('russian')\n",
    "\n",
    "for val in df.sentence:\n",
    "    # typecaste each val to string\n",
    "    val = str(val)\n",
    " \n",
    "    # split the value\n",
    "    tokens = val.split()\n",
    "     \n",
    "    # Converts each token into lowercase\n",
    "    for i in range(len(tokens)):\n",
    "        tokens[i] = tokens[i].lower()\n",
    "     \n",
    "    comment_words += \" \".join(tokens)+\" \"\n",
    " \n",
    "wordcloud = WordCloud(width = 3200, height = 3200,\n",
    "                background_color ='white',\n",
    "                stopwords = stopwords,\n",
    "                min_font_size = 10).generate(comment_words)\n",
    " \n",
    "# plot the WordCloud image                      \n",
    "plt.figure(figsize = (8, 8), facecolor = None)\n",
    "plt.imshow(wordcloud)\n",
    "plt.axis(\"off\")\n",
    "plt.tight_layout(pad = 0)\n",
    " \n",
    "plt.show();"
   ]
  },
  {
   "cell_type": "code",
   "execution_count": null,
   "id": "97a4a5da",
   "metadata": {
    "cellId": "8y8gkgpbljlxrkluxueos",
    "execution_id": "ea78086c-b692-46a5-9dc9-c7ad15bd44fc"
   },
   "outputs": [],
   "source": [
    "# Construct unigrams for each class\n",
    "nltk.download('stopwords')\n",
    "from nltk.corpus import stopwords\n",
    "\n",
    "# let's visualise the world cloud\n",
    "# iterate through the csv file\n",
    "comment_words_pos = ''\n",
    "comment_words_neg = ''\n",
    "comment_words_ntr = ''\n",
    "stopwords = stopwords.words('russian')\n",
    "stopwords += ['-', ',', 'банк,', 'банка,', 'банка', 'которые', 'сотрудников', 'банке', 'карты', 'сотрудник', 'всем', 'отделения', 'банка.', 'и,',\n",
    "             'колеи,', 'работой,', 'здоровьем,', 'проблема.', '–']\n",
    "\n",
    "for i in range(len(df)):\n",
    "    # typecaste each val to string\n",
    "    val = str(df.iloc[i, 0]).lower()\n",
    " \n",
    "    # split the value\n",
    "    tokens = val.split()\n",
    "    \n",
    "    if df.iloc[i, 3] == '−':\n",
    "        comment_words_neg += \" \".join(tokens)+\" \"\n",
    "    elif df.iloc[i, 3] == '+':\n",
    "        comment_words_pos += \" \".join(tokens)+\" \"\n",
    "    else:\n",
    "        comment_words_ntr += \" \".join(tokens)+\" \"\n",
    "\n",
    "        \n",
    "N_words = 10\n",
    "fontsize = 10\n",
    "com_wor_neg_df = pd.DataFrame(comment_words_neg.split())\n",
    "com_wor_neg_df = com_wor_neg_df[~com_wor_neg_df.iloc[:,0].isin(stopwords)]\n",
    "com_wor_neg_df = com_wor_neg_df.iloc[:,0].value_counts()[:N_words]\n",
    "\n",
    "com_wor_ntr_df = pd.DataFrame(comment_words_ntr.split())\n",
    "com_wor_ntr_df = com_wor_ntr_df[~com_wor_ntr_df.iloc[:,0].isin(stopwords)]\n",
    "com_wor_ntr_df = com_wor_ntr_df.iloc[:,0].value_counts()[:N_words]\n",
    "\n",
    "com_wor_pos_df = pd.DataFrame(comment_words_pos.split())\n",
    "com_wor_pos_df = com_wor_pos_df[~com_wor_pos_df.iloc[:,0].isin(stopwords)]\n",
    "com_wor_pos_df = com_wor_pos_df.iloc[:,0].value_counts()[:N_words]\n",
    "\n",
    "\n",
    "fig, axes = plt.subplots(ncols=3, figsize=(12, 7), dpi=120)\n",
    "plt.tight_layout()\n",
    "\n",
    "sns.barplot(y=com_wor_neg_df.index, x=com_wor_neg_df, color='#E89611',  ax=axes[0])\n",
    "sns.barplot(y=com_wor_ntr_df.index, x=com_wor_ntr_df, color='#8B8B8C',  ax=axes[1])\n",
    "sns.barplot(y=com_wor_pos_df.index, x=com_wor_pos_df, color='#1C4EAA',  ax=axes[2])\n",
    "\n",
    "for i in range(3):\n",
    "    axes[i].spines['right'].set_visible(False)\n",
    "    axes[i].set_xlabel('')\n",
    "    axes[i].set_ylabel('')\n",
    "    axes[i].tick_params(axis='x', labelsize=fontsize)\n",
    "    axes[i].tick_params(axis='y', labelsize=fontsize)\n",
    "\n",
    "axes[0].set_title(f'Top {N_words} most common unigrams in Negative Sentiment', fontsize=fontsize)\n",
    "axes[1].set_title(f'Top {N_words} most common unigrams in Neutral Sentiment', fontsize=fontsize)\n",
    "axes[2].set_title(f'Top {N_words} most common unigrams in Positive Sentiment', fontsize=fontsize)\n",
    "\n",
    "plt.savefig('Unigram Train.png')\n",
    "plt.show();"
   ]
  },
  {
   "cell_type": "code",
   "execution_count": null,
   "id": "f54e38fe",
   "metadata": {
    "cellId": "98xh4oqwg6wnp981r96qoi",
    "execution_id": "c6370342-9be1-48d6-9f4b-31040b26c0e2"
   },
   "outputs": [],
   "source": [
    "# compute unigrmas overall\n",
    "stopwords += ['-', ',', 'банк,', 'банка,', 'банка', 'которые', 'сотрудников', 'банке', 'карты', 'сотрудник', 'всем', 'отделения', 'банка.']\n",
    "com_wor_df = pd.DataFrame(comment_words.lower().split())\n",
    "com_wor_df = com_wor_df[~com_wor_df.iloc[:,0].isin(stopwords)]\n",
    "com_wor_df = com_wor_df.iloc[:,0].value_counts()\n",
    "fig = plt.figure(figsize=(8, 13), dpi=100)\n",
    "com_wor_df = com_wor_df[:20]\n",
    "sns.barplot(y=com_wor_df.index, x=com_wor_df)\n",
    "plt.title('Individual Sentences Unigram Top-20')\n",
    "plt.xlabel(\"Word Count\")\n",
    "plt.savefig('Unigram Train.png')\n",
    "plt.show();"
   ]
  },
  {
   "cell_type": "markdown",
   "id": "f46149f7",
   "metadata": {
    "cellId": "teqp3b99uycvana302o3kt",
    "execution_id": "5bb4f8e6-3885-488f-8aff-8618f9a1febb"
   },
   "source": [
    "## Initial Analysis Banki.csv"
   ]
  },
  {
   "cell_type": "code",
   "execution_count": null,
   "id": "41970628",
   "metadata": {
    "cellId": "h1hvh350faoexuewvf8omp",
    "execution_id": "8b38350f-3d61-4332-993b-8cae9e88dfd5"
   },
   "outputs": [],
   "source": [
    "banki_csv = pd.read_csv('banki.csv')\n",
    "banki_csv.head(10)"
   ]
  },
  {
   "cell_type": "code",
   "execution_count": null,
   "id": "067c5414",
   "metadata": {
    "cellId": "r3gyuj3q4fb0y3bwoenhe",
    "execution_id": "819145a3-c1d5-4f87-b6a6-1dd6bf7d3f56"
   },
   "outputs": [],
   "source": [
    "banki_csv.describe()"
   ]
  },
  {
   "cell_type": "code",
   "execution_count": null,
   "id": "2fbbba01",
   "metadata": {
    "cellId": "28k0r2fokim6a73gs7t6b6",
    "execution_id": "c73a3e92-4761-4acf-9052-796e74c709eb"
   },
   "outputs": [],
   "source": [
    "banki_csv.info()"
   ]
  },
  {
   "cell_type": "code",
   "execution_count": null,
   "id": "2096c264",
   "metadata": {
    "cellId": "rqgn3k9zwocx5enwaceel",
    "execution_id": "b4eba5a9-9a5e-4823-8d90-d2b2a4d91a10"
   },
   "outputs": [],
   "source": [
    "# check whether all sentences from banki.ru\n",
    "search = 'https://www.banki.ru'\n",
    "banki_csv['url_bank_count'] = banki_csv['url_bank'].str.count(search, re.I)\n",
    "print(banki_csv['url_bank_count'].sum() == len(banki_csv))  # cehck whether all strings start from search\n",
    "banki_csv.drop(columns = ['url_bank_count'], inplace=True)"
   ]
  },
  {
   "cell_type": "code",
   "execution_count": null,
   "id": "4d38f169",
   "metadata": {
    "cellId": "phj9lymas7qbspkllbgb9",
    "execution_id": "b24ee3ad-2e9a-40f4-a237-534b4e006f07"
   },
   "outputs": [],
   "source": [
    "# so we can provide further info with data erichment\n",
    "banki_csv['date'] = pd.to_datetime(banki_csv['date'])\n",
    "banki_csv['date'] = banki_csv['date'].dt.date  # get riod of time in timestamp\n",
    "banki_csv"
   ]
  },
  {
   "cell_type": "code",
   "execution_count": null,
   "id": "a03a3a37",
   "metadata": {
    "cellId": "8rpwvy4cc1x28zkt43zth1",
    "execution_id": "c5dc587a-5c0f-42e9-a327-f9e418e6eebf"
   },
   "outputs": [],
   "source": [
    "# find info of growth in number of comments\n",
    "fig = px.line(banki_csv['date'].value_counts().sort_index())\n",
    "fig.show();"
   ]
  }
 ],
 "metadata": {
  "language_info": {
   "codemirror_mode": {
    "name": "ipython",
    "version": 3
   },
   "file_extension": ".py",
   "mimetype": "text/x-python",
   "name": "python",
   "nbconvert_exporter": "python",
   "pygments_lexer": "ipython3",
   "version": "3.7.7"
  },
  "notebookId": "bdb0ffab-1230-4389-b47a-f840bfa0528d",
  "notebookPath": "Data_Hack_2023/EDA.ipynb"
 },
 "nbformat": 4,
 "nbformat_minor": 5
}
